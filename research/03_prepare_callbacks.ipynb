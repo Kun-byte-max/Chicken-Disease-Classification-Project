{
 "cells": [
  {
   "cell_type": "code",
   "execution_count": 43,
   "id": "1e636eb0",
   "metadata": {},
   "outputs": [
    {
     "name": "stdout",
     "output_type": "stream",
     "text": [
      "[DEBUG] ROOT_DIR is: D:\\ML_Pro\\Chicken-Disease-Classification-Project\n",
      "[DEBUG] CONFIG_FILE_PATH is: D:\\ML_Pro\\Chicken-Disease-Classification-Project\\config\\config.yaml\n",
      "[DEBUG] PARAMS_FILE_PATH is: D:\\ML_Pro\\Chicken-Disease-Classification-Project\\params.yaml\n"
     ]
    },
    {
     "data": {
      "text/plain": [
       "<module 'cnnClassifier.constants' from 'd:\\\\ml_pro\\\\chicken-disease-classification-project\\\\src\\\\cnnClassifier\\\\constants\\\\__init__.py'>"
      ]
     },
     "execution_count": 43,
     "metadata": {},
     "output_type": "execute_result"
    }
   ],
   "source": [
    "%reset -f\n",
    "import importlib\n",
    "import cnnClassifier.constants as const\n",
    "importlib.reload(const)\n"
   ]
  },
  {
   "cell_type": "code",
   "execution_count": 44,
   "id": "0f9adfb8",
   "metadata": {},
   "outputs": [
    {
     "name": "stdout",
     "output_type": "stream",
     "text": [
      "D:\\ML_Pro\\Chicken-Disease-Classification-Project\\config\\config.yaml\n",
      "True\n"
     ]
    }
   ],
   "source": [
    "print(const.CONFIG_FILE_PATH)\n",
    "print(const.CONFIG_FILE_PATH.exists())\n"
   ]
  },
  {
   "cell_type": "code",
   "execution_count": 45,
   "id": "924ce974",
   "metadata": {},
   "outputs": [],
   "source": [
    "import os\n",
    "#CONFIG_FILE_PATH = os.path.join(os.getcwd(), \"config\", \"config.yaml\")"
   ]
  },
  {
   "cell_type": "code",
   "execution_count": 46,
   "id": "0c1cd61c",
   "metadata": {},
   "outputs": [
    {
     "name": "stdout",
     "output_type": "stream",
     "text": [
      "D:\\ML_Pro\\Chicken-Disease-Classification-Project\\config\\config.yaml\n",
      "True\n"
     ]
    }
   ],
   "source": [
    "from cnnClassifier.constants import CONFIG_FILE_PATH, PARAMS_FILE_PATH\n",
    "print(CONFIG_FILE_PATH)\n",
    "print(CONFIG_FILE_PATH.exists())\n",
    "\n"
   ]
  },
  {
   "cell_type": "code",
   "execution_count": 47,
   "id": "357b66ca",
   "metadata": {},
   "outputs": [
    {
     "name": "stdout",
     "output_type": "stream",
     "text": [
      "Current working dir: d:\\\n"
     ]
    }
   ],
   "source": [
    "import os \n",
    "print(\"Current working dir:\",os.getcwd())"
   ]
  },
  {
   "cell_type": "code",
   "execution_count": 48,
   "id": "c769b4e8",
   "metadata": {},
   "outputs": [
    {
     "name": "stdout",
     "output_type": "stream",
     "text": [
      "Config path: D:\\ML_Pro\\Chicken-Disease-Classification-Project\\config\\config.yaml\n",
      "Config exists: True\n",
      "Params path: D:\\ML_Pro\\Chicken-Disease-Classification-Project\\params.yaml\n",
      "Params exists: True\n"
     ]
    }
   ],
   "source": [
    "from cnnClassifier.constants import CONFIG_FILE_PATH, PARAMS_FILE_PATH\n",
    "\n",
    "print(\"Config path:\", CONFIG_FILE_PATH)\n",
    "print(\"Config exists:\", CONFIG_FILE_PATH.exists())\n",
    "print(\"Params path:\", PARAMS_FILE_PATH)\n",
    "print(\"Params exists:\", PARAMS_FILE_PATH.exists())\n"
   ]
  },
  {
   "cell_type": "code",
   "execution_count": 49,
   "id": "b105187b",
   "metadata": {},
   "outputs": [
    {
     "data": {
      "text/plain": [
       "'d:\\\\'"
      ]
     },
     "execution_count": 49,
     "metadata": {},
     "output_type": "execute_result"
    }
   ],
   "source": [
    "%pwd"
   ]
  },
  {
   "cell_type": "code",
   "execution_count": 50,
   "id": "c9224c47",
   "metadata": {},
   "outputs": [],
   "source": [
    "os.chdir(\"../\")"
   ]
  },
  {
   "cell_type": "code",
   "execution_count": 51,
   "id": "4262c801",
   "metadata": {},
   "outputs": [],
   "source": [
    "from dataclasses import dataclass\n",
    "from pathlib import Path\n",
    "\n",
    "@dataclass(frozen=True)\n",
    "class PrepareCallbacksConfig:\n",
    "    root_dir: Path\n",
    "    tensorboard_root_log_dir: Path\n",
    "    checkpoint_model_filepath: Path\n",
    "    "
   ]
  },
  {
   "cell_type": "code",
   "execution_count": 52,
   "id": "995c109a",
   "metadata": {},
   "outputs": [],
   "source": [
    "from cnnClassifier.constants import *\n",
    "from cnnClassifier.utils.common import read_yaml,create_directories"
   ]
  },
  {
   "cell_type": "code",
   "execution_count": 53,
   "id": "bdb27b78",
   "metadata": {},
   "outputs": [],
   "source": [
    "class ConfigurationManager:\n",
    "    def __init__(\n",
    "        self,\n",
    "        config_filepath = CONFIG_FILE_PATH,\n",
    "        params_filepath = PARAMS_FILE_PATH):\n",
    "        self.config = read_yaml(config_filepath)\n",
    "        self.params = read_yaml(params_filepath)\n",
    "        create_directories([self.config.artifacts_root])\n",
    "\n",
    "    def get_prepare_callback_config(self) -> PrepareCallbacksConfig:\n",
    "        config = self.config.prepare_callbacks\n",
    "        model_ckpt_dir = os.path.dirname(config.checkpoint_model_filepath)\n",
    "        create_directories([\n",
    "            Path(model_ckpt_dir),\n",
    "            Path(config.tensorboard_root_log_dir)\n",
    "        ])\n",
    "\n",
    "        prepare_callback_config = PrepareCallbacksConfig(\n",
    "            root_dir=Path(config.root_dir),\n",
    "            tensorboard_root_log_dir=Path(config.tensorboard_root_log_dir),\n",
    "            checkpoint_model_filepath=Path(config.checkpoint_model_filepath)\n",
    "\n",
    "        )\n",
    "\n",
    "        return prepare_callback_config\n",
    "\n",
    "    \n",
    "    "
   ]
  },
  {
   "cell_type": "code",
   "execution_count": 54,
   "id": "7450443b",
   "metadata": {},
   "outputs": [],
   "source": [
    "import os \n",
    "import urllib.request as request\n",
    "from zipfile import ZipFile\n",
    "import tensorflow as tf\n",
    "import time"
   ]
  },
  {
   "cell_type": "code",
   "execution_count": 55,
   "id": "25d6fee4",
   "metadata": {},
   "outputs": [],
   "source": [
    "class PrepareCallback:\n",
    "    def __init__(self,config: PrepareCallbacksConfig):\n",
    "        self.config = config\n",
    "\n",
    "    @property\n",
    "    def _create_tb_callbacks(self):\n",
    "        timestamp = time.strftime(\"%Y-%m-%d-%H-%M-%S\")\n",
    "        tb_running_log_dir = os.path.join(\n",
    "            self.config.tensorboard_root_log_dir,\n",
    "            f\"tb_logs_at_{timestamp}\",\n",
    "        )\n",
    "        return tf.keras.callbacks.TensorBoard(log_dir=tb_running_log_dir)\n",
    "    \n",
    "    @property\n",
    "    def _create_ckpt_callbacks(self):\n",
    "        return tf.keras.callbacks.ModelCheckpoint(\n",
    "            filepath=self.config.checkpoint_model_filepath,\n",
    "            save_best_only=True\n",
    "        )\n",
    "    \n",
    "    def get_tb_ckpt_callbacks(self):\n",
    "        return[\n",
    "            self._create_tb_callbacks,\n",
    "            self._create_ckpt_callbacks\n",
    "        ]\n"
   ]
  },
  {
   "cell_type": "code",
   "execution_count": 56,
   "id": "22ec805a",
   "metadata": {},
   "outputs": [
    {
     "name": "stdout",
     "output_type": "stream",
     "text": [
      "[DEBUG] Reading YAML from: D:\\ML_Pro\\Chicken-Disease-Classification-Project\\config\\config.yaml\n",
      "[2025-09-06 12:26:50,043: INFO: common: Attempting to load YAML from D:\\ML_Pro\\Chicken-Disease-Classification-Project\\config\\config.yaml]\n",
      "[DEBUG] YAML content: {'artifacts_root': 'artifacts', 'data_ingestion': {'root_dir': 'artifacts/data_ingestion', 'source_url': 'https://github.com/entbappy/Branching-tutorial/raw/refs/heads/master/Chicken-fecal-images.zip', 'local_data_file': 'artifacts/data_ingestion/data.zip', 'unzip_dir': 'artifacts/data_ingestion'}, 'prepare_base_model': {'root_dir': 'artifacts/prepare_base_model', 'base_model_path': 'artifacts/prepare_base_model/base_model.h5', 'updated_base_model_path': 'artifacts/prepare_base_model/base_model_updated.h5'}, 'prepare_callbacks': {'root_dir': 'artifacts/prepare_callbacks', 'tensorboard_root_log_dir': 'artifacts/prepare_callbacks/tensorboard_root_log_dir', 'checkpoint_model_filepath': 'artifacts/prepare_callbacks/checkpoint_dir/model.h5'}}\n",
      "[2025-09-06 12:26:50,047: INFO: common: YAML file D:\\ML_Pro\\Chicken-Disease-Classification-Project\\config\\config.yaml loaded successfully]\n",
      "[DEBUG] Reading YAML from: D:\\ML_Pro\\Chicken-Disease-Classification-Project\\params.yaml\n",
      "[2025-09-06 12:26:50,048: INFO: common: Attempting to load YAML from D:\\ML_Pro\\Chicken-Disease-Classification-Project\\params.yaml]\n",
      "[DEBUG] YAML content: {'AUGMENTATION': True, 'IMAGE_SIZE': [224, 224, 3], 'BATCH_SIZE': 16, 'INCLUDE_TOP': False, 'EPOCHS': 1, 'CLASSES': 2, 'WEIGHTS': 'imagenet', 'LEARNING_RATE': 0.01}\n",
      "[2025-09-06 12:26:50,050: INFO: common: YAML file D:\\ML_Pro\\Chicken-Disease-Classification-Project\\params.yaml loaded successfully]\n",
      "[2025-09-06 12:26:50,051: INFO: common: created directory at: artifacts]\n",
      "[2025-09-06 12:26:50,052: INFO: common: created directory at: artifacts\\prepare_callbacks\\checkpoint_dir]\n",
      "[2025-09-06 12:26:50,053: INFO: common: created directory at: artifacts\\prepare_callbacks\\tensorboard_root_log_dir]\n"
     ]
    }
   ],
   "source": [
    "try:\n",
    "    config = ConfigurationManager()\n",
    "    prepare_callbacks_config = config.get_prepare_callback_config()\n",
    "    prepare_callbacks = PrepareCallback(config=prepare_callbacks_config)\n",
    "    callback_list = prepare_callbacks.get_tb_ckpt_callbacks()\n",
    "\n",
    "except Exception as e:\n",
    "    raise e"
   ]
  },
  {
   "cell_type": "code",
   "execution_count": null,
   "id": "9d289a64",
   "metadata": {},
   "outputs": [],
   "source": []
  }
 ],
 "metadata": {
  "kernelspec": {
   "display_name": "chicken",
   "language": "python",
   "name": "python3"
  },
  "language_info": {
   "codemirror_mode": {
    "name": "ipython",
    "version": 3
   },
   "file_extension": ".py",
   "mimetype": "text/x-python",
   "name": "python",
   "nbconvert_exporter": "python",
   "pygments_lexer": "ipython3",
   "version": "3.10.18"
  }
 },
 "nbformat": 4,
 "nbformat_minor": 5
}
